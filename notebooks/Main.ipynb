{
 "cells": [
  {
   "cell_type": "markdown",
   "metadata": {},
   "source": [
    "# Import"
   ]
  },
  {
   "cell_type": "code",
   "execution_count": 1,
   "metadata": {
    "scrolled": true
   },
   "outputs": [
    {
     "name": "stderr",
     "output_type": "stream",
     "text": [
      "Using TensorFlow backend.\n"
     ]
    }
   ],
   "source": [
    "import sys\n",
    "%matplotlib inline\n",
    "SCRIPTS_PATH = '../scripts'\n",
    "if SCRIPTS_PATH not in sys.path:\n",
    "    sys.path.append(SCRIPTS_PATH)\n",
    "\n",
    "import numpy as np\n",
    "import pandas as pd\n",
    "import matplotlib.pylab as plt\n",
    "import regression_model\n",
    "import NNModel\n",
    "from tagging import *\n",
    "from NNModel import *\n",
    "from window_aggregation import *\n",
    "from dull_model import *\n",
    "from collocation import *"
   ]
  },
  {
   "cell_type": "markdown",
   "metadata": {},
   "source": [
    "# Load test data"
   ]
  },
  {
   "cell_type": "code",
   "execution_count": 2,
   "metadata": {},
   "outputs": [],
   "source": [
    "path_to_data = '../data/test.csv'\n",
    "test_df = pd.read_csv(path_to_data)"
   ]
  },
  {
   "cell_type": "code",
   "execution_count": 3,
   "metadata": {},
   "outputs": [],
   "source": [
    "#full_df = pd.read_csv('../data/dataset1_v2.csv')"
   ]
  },
  {
   "cell_type": "code",
   "execution_count": 4,
   "metadata": {},
   "outputs": [],
   "source": [
    "#prods = full_df['PRODUCT'].unique().tolist()\n",
    "#selected_prods = np.random.choice(prods, 30)\n",
    "#out_df = full_df[full_df['PRODUCT'].isin(selected_prods)]\n",
    "#out_df.to_csv('../data/test.csv', index=False)"
   ]
  },
  {
   "cell_type": "markdown",
   "metadata": {},
   "source": [
    "# Init models"
   ]
  },
  {
   "cell_type": "code",
   "execution_count": 5,
   "metadata": {},
   "outputs": [
    {
     "name": "stderr",
     "output_type": "stream",
     "text": [
      "/Library/Frameworks/Python.framework/Versions/3.5/lib/python3.5/site-packages/sklearn/base.py:312: UserWarning: Trying to unpickle estimator OneHotEncoder from version 0.18.1 when using version 0.19.0. This might lead to breaking code or invalid results. Use at your own risk.\n",
      "  UserWarning)\n"
     ]
    }
   ],
   "source": [
    "nn_model = nn_init('../model/')"
   ]
  },
  {
   "cell_type": "code",
   "execution_count": 6,
   "metadata": {},
   "outputs": [],
   "source": [
    "tag_model = tag_init('../model/dn/')"
   ]
  },
  {
   "cell_type": "code",
   "execution_count": 7,
   "metadata": {},
   "outputs": [],
   "source": [
    "dull_model = DullModel('../model/rm/')"
   ]
  },
  {
   "cell_type": "markdown",
   "metadata": {},
   "source": [
    "# Predict"
   ]
  },
  {
   "cell_type": "code",
   "execution_count": 1,
   "metadata": {
    "scrolled": false
   },
   "outputs": [
    {
     "ename": "NameError",
     "evalue": "name 'test_df' is not defined",
     "output_type": "error",
     "traceback": [
      "\u001b[0;31m---------------------------------------------------------------------------\u001b[0m",
      "\u001b[0;31mNameError\u001b[0m                                 Traceback (most recent call last)",
      "\u001b[0;32m<ipython-input-1-c1ae2eecabd2>\u001b[0m in \u001b[0;36m<module>\u001b[0;34m()\u001b[0m\n\u001b[0;32m----> 1\u001b[0;31m \u001b[0mproducts\u001b[0m \u001b[0;34m=\u001b[0m \u001b[0mtest_df\u001b[0m\u001b[0;34m[\u001b[0m\u001b[0;34m'PRODUCT'\u001b[0m\u001b[0;34m]\u001b[0m\u001b[0;34m.\u001b[0m\u001b[0munique\u001b[0m\u001b[0;34m(\u001b[0m\u001b[0;34m)\u001b[0m\u001b[0;34m\u001b[0m\u001b[0m\n\u001b[0m\u001b[1;32m      2\u001b[0m \u001b[0malphabet\u001b[0m \u001b[0;34m=\u001b[0m \u001b[0;34m'абвгдеёжзийклмнопрстуфхцчшщъыьэюя '\u001b[0m\u001b[0;34m\u001b[0m\u001b[0m\n\u001b[1;32m      3\u001b[0m \u001b[0;32mfor\u001b[0m \u001b[0mproduct\u001b[0m \u001b[0;32min\u001b[0m \u001b[0mproducts\u001b[0m\u001b[0;34m:\u001b[0m\u001b[0;34m\u001b[0m\u001b[0m\n\u001b[1;32m      4\u001b[0m     \u001b[0mcomments\u001b[0m \u001b[0;34m=\u001b[0m \u001b[0mtest_df\u001b[0m\u001b[0;34m[\u001b[0m\u001b[0mtest_df\u001b[0m\u001b[0;34m[\u001b[0m\u001b[0;34m'PRODUCT'\u001b[0m\u001b[0;34m]\u001b[0m \u001b[0;34m==\u001b[0m \u001b[0mproduct\u001b[0m\u001b[0;34m]\u001b[0m\u001b[0;34m[\u001b[0m\u001b[0;34m'TEXT'\u001b[0m\u001b[0;34m]\u001b[0m\u001b[0;34m.\u001b[0m\u001b[0mtolist\u001b[0m\u001b[0;34m(\u001b[0m\u001b[0;34m)\u001b[0m\u001b[0;34m\u001b[0m\u001b[0m\n\u001b[1;32m      5\u001b[0m     \u001b[0mprod_info\u001b[0m \u001b[0;34m=\u001b[0m \u001b[0mtest_df\u001b[0m\u001b[0;34m[\u001b[0m\u001b[0mtest_df\u001b[0m\u001b[0;34m[\u001b[0m\u001b[0;34m'PRODUCT'\u001b[0m\u001b[0;34m]\u001b[0m \u001b[0;34m==\u001b[0m \u001b[0mproduct\u001b[0m\u001b[0;34m]\u001b[0m\u001b[0;34m.\u001b[0m\u001b[0mhead\u001b[0m\u001b[0;34m(\u001b[0m\u001b[0;36m1\u001b[0m\u001b[0;34m)\u001b[0m\u001b[0;34m\u001b[0m\u001b[0m\n",
      "\u001b[0;31mNameError\u001b[0m: name 'test_df' is not defined"
     ]
    }
   ],
   "source": [
    "products = test_df['PRODUCT'].unique()\n",
    "alphabet = 'абвгдеёжзийклмнопрстуфхцчшщъыьэюя '\n",
    "for product in products:\n",
    "    comments = test_df[test_df['PRODUCT'] == product]['TEXT'].tolist()\n",
    "    prod_info = test_df[test_df['PRODUCT'] == product].head(1)\n",
    "    prod_name = prod_info['NAME'].tolist()[0].strip() if len(prod_info['NAME']) > 0 else ''\n",
    "    print('Продукт %d, %s' % (product, prod_name))\n",
    "    \n",
    "    # DN - tags\n",
    "    num_chosen_tags = 3\n",
    "    single_prod_df = test_df[test_df['PRODUCT'] == product]\n",
    "    tags = tag_model.predict(single_prod_df, top_n=num_chosen_tags)\n",
    "    tags = [t for t in tags if len(t.split(' ')) <=3]\n",
    "    tag_line = ''\n",
    "    for tag in tags:\n",
    "        tag_flt = ''.join([c for c in tag.lower().strip() if c in alphabet])\n",
    "        tag_flt = tag_flt[1:len(tag_flt)] if tag_flt[0] == ' ' else tag_flt\n",
    "        tag_line += '#%s ' % tag_flt.replace(' ', '_')\n",
    "    print('\\t' + tag_line)\n",
    "    \n",
    "    # coallocation tags\n",
    "    num_chosen_coallocations = 3\n",
    "    col_model = Collocation_find('../model/mk/stopw-1.csv', path_to_data)\n",
    "    tags = col_model.predict(product)[:num_chosen_coallocations]\n",
    "    tag_line = ''\n",
    "    for tag in tags:\n",
    "        tag_flt = ''.join([c for c in tag.lower().strip() if c in alphabet])\n",
    "        tag_flt = tag_flt[1:len(tag_flt)] if tag_flt[0] == ' ' else tag_flt\n",
    "        tag_line += '#%s ' % tag_flt.replace(' ', '_')\n",
    "    print('\\t' + tag_line)\n",
    "    print(' ')\n",
    "    \n",
    "    # nn \n",
    "    wnd_agg = aggregate(comments, num_comments=3, model=nn_model, wnd_l=12, stride=6, positive_q=(0.8, 0.95), negative_threshold=3)\n",
    "    print('\\tПокупатели отмечают такие положительные моменты: ')\n",
    "    if len(wnd_agg['+']) == 0:\n",
    "        print('\\t\\t---')\n",
    "    else:\n",
    "        for com in wnd_agg['+']:\n",
    "            print('\\t\\t...%s...' % com)\n",
    "    print(' ')\n",
    "            \n",
    "    print('\\tПокупатели отмечают такие отрицательные моменты: ')\n",
    "    if len(wnd_agg['-']) == 0:\n",
    "        print('\\t\\t---')\n",
    "    else:\n",
    "        for com in wnd_agg['-']:\n",
    "            print('\\t\\t...%s...' % com)\n",
    "    print(' ')\n",
    "    \n",
    "    # comments\n",
    "    num_chosen_comments = 3\n",
    "    dull_pres = dull_model.predict(single_prod_df, list(range(len(single_prod_df))))[:num_chosen_comments]\n",
    "    print('\\tПокупатели также находят важным: ')\n",
    "    if len(dull_pres) == 0:\n",
    "        print('\\t\\t---')\n",
    "    else:\n",
    "        for com in dull_pres:\n",
    "            print('\\t\\t...%s...' % com)\n",
    "    \n",
    "    print(' ')        \n",
    "    print(''.join(['*'] * 110))\n",
    "    print(' ')"
   ]
  },
  {
   "cell_type": "code",
   "execution_count": null,
   "metadata": {},
   "outputs": [],
   "source": []
  }
 ],
 "metadata": {
  "kernelspec": {
   "display_name": "Python 3",
   "language": "python",
   "name": "python3"
  },
  "language_info": {
   "codemirror_mode": {
    "name": "ipython",
    "version": 3
   },
   "file_extension": ".py",
   "mimetype": "text/x-python",
   "name": "python",
   "nbconvert_exporter": "python",
   "pygments_lexer": "ipython3",
   "version": "3.5.2"
  }
 },
 "nbformat": 4,
 "nbformat_minor": 1
}
